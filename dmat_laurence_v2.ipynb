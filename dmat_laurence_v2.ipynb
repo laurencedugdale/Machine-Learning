{
  "nbformat": 4,
  "nbformat_minor": 0,
  "metadata": {
    "colab": {
      "name": "Copy of DMAT_ResNet.ipynb",
      "provenance": [],
      "collapsed_sections": []
    },
    "kernelspec": {
      "name": "python3",
      "display_name": "Python 3"
    },
    "accelerator": "GPU"
  },
  "cells": [
    {
      "cell_type": "markdown",
      "metadata": {
        "id": "wZFm2fZr99Hm",
        "colab_type": "text"
      },
      "source": [
        "##Group Name: Anything\n",
        "\n",
        "Kari A Noriy     - s4926318\n",
        "\n",
        "Laurence Dugdale - s5130853\n",
        "\n",
        "Camilla Webster  - s4924047\n"
      ]
    },
    {
      "cell_type": "markdown",
      "metadata": {
        "id": "svbaTnFnxud1",
        "colab_type": "text"
      },
      "source": [
        "## Task\n",
        "\n",
        "- Build a machine learning model to classify cardiotocography scans.\n",
        "- Experiment with different model designs to find the best performing one.\n"
      ]
    },
    {
      "cell_type": "markdown",
      "metadata": {
        "id": "UBSlTy3C_JUs",
        "colab_type": "text"
      },
      "source": [
        "## What is Machine Learning?\n",
        "\n",
        "**Machine Learning** is a method of analysing data that automates model building.\n",
        "\n",
        "We iteratively learn from the data.\n",
        "This process allows the computer to find meaning/solutions without explicitly programming the rules.\n",
        "\n",
        "There are many different types of machine learning, in this presentation we will only be focusing on **Supervised Learning**.\n",
        "\n",
        "**Supervised Learning** is the process of mapping an input to an output based on a labeled examples."
      ]
    },
    {
      "cell_type": "markdown",
      "metadata": {
        "id": "cziW3kuxM59n",
        "colab_type": "text"
      },
      "source": [
        "## <center> What is Machine Learning used for? </center>\n",
        "\n",
        "ML has many use cases, some are listed below and other which you are yet to discover.\n",
        "\n",
        "- Fraud Detection\n",
        "- Image Recognition\n",
        "- Stock Prediction\n",
        "- Credit Scoring\n",
        "- Medical Analisis\n",
        "- Natural Language Processing\n",
        "- Recommendation Engines\n",
        "\n",
        "In this presentation we will be focusing on Medical Diagnosis\n"
      ]
    },
    {
      "cell_type": "markdown",
      "metadata": {
        "id": "QEDRYCTNO66v",
        "colab_type": "text"
      },
      "source": [
        "## What are Artificial Neural Networks?\n",
        "\n",
        "Artificial Neural Networks (ANN) are a way of representing biological neural network and they are loosely designed around our own brains.\n",
        "\n",
        "A biological neuron takes multiple electrical inputs and processes them to produce a single output. Multiple neurons can be connected together to create networks which are capable of processing large amounts of complex information.   \n",
        " \n",
        "<center> <img src=\"https://upload.wikimedia.org/wikipedia/commons/thumb/b/b5/Neuron.svg/1200px-Neuron.svg.png\" height = \"400\"/> </center>\n",
        "<center>Image from simple.wikipedia.org </center>"
      ]
    },
    {
      "cell_type": "markdown",
      "metadata": {
        "id": "qDDYjoLvZccm",
        "colab_type": "text"
      },
      "source": [
        "## Deep Neural Networks\n",
        "\n",
        "**Deep Neural networks** are simply referring to networks with more than one hidden layer.\n",
        "\n",
        "Deep network come with their own challenges such as the vanishing gradient problem. We will discuss this further later in the presentation."
      ]
    },
    {
      "cell_type": "markdown",
      "metadata": {
        "id": "Imv-Vf-PZtKa",
        "colab_type": "text"
      },
      "source": [
        "## <center> The Process </center>\n",
        "\n",
        "<center> <img src=\"https://drive.google.com/uc?export=view&id=1UzmS45O4PFGbdRDoYQvAXnah8HHjIBNc\" height = \"400\"/> </center>\n"
      ]
    },
    {
      "cell_type": "markdown",
      "metadata": {
        "id": "Gz8d4BGyy1PM",
        "colab_type": "text"
      },
      "source": [
        "## Data quality\n",
        "\n",
        "Outliers are instances where the difference to other data points is too large to be attributed to chance variation in the data. They must be removed to prevent the model from learning an incorrect relationship.\n",
        "\n",
        "\n",
        "Other aspects of data quality are validity, accuracy, completeness, consistency and uniformity. Validity is whether the data conforms to the constraints required by the machine learning model. Accuracy is how well the data represents the true values. Completeness is whether all the data needed to complete the task is available. Consistency is achieved when none of the data contradicts itself. Uniformity is whether the units used are the same for-each instance. \n",
        "\n",
        "\n",
        "### Cleaning your dataset\n",
        "\n",
        "Once we have collected our dataset,we need to make sure a cleaning operation is performed,this is the process of detecting and correcting corrupt or inaccurate data. This process is vital, any incorrect or inconsistent data can lead to false results and the function the model learns may be incorrect.\n",
        "\n",
        "Show and explain what process we have done to clean the data\n",
        "\n"
      ]
    },
    {
      "cell_type": "markdown",
      "metadata": {
        "id": "M_zQH5Kdy-GY",
        "colab_type": "text"
      },
      "source": [
        "## Splitting data into training, validation and testing\n",
        "\n",
        "To ensure performance scores are representative of how the model will perform on real-world data, the dataset must be split into a training, validation and test set.\n",
        "\n",
        "    \n",
        "To prevent overfitting and ensure performance scores are representative of how the model will perform on real-world data, the dataset must be split into a training, validation and test set. Overfitting is the process of your model following your dataset too closely.\n",
        "\n",
        "- **Training Data** - Used during the training of your models, the model uses this to find feature maps to fit to you data.\n",
        "\n",
        "- **Validation Data** - The validation data is used to determine how to adjust your hyperparameters to improve your model. Such as, adding more nerurans, deeper layers or using different activation functions.\n",
        "\n",
        "- **Test Data** - This is data that has never been seen by your model, it is used at the end to get the performance metrics of your model.\n",
        "\n",
        "The test data will show you your true performance on unforseen real world data.\n"
      ]
    },
    {
      "cell_type": "markdown",
      "metadata": {
        "id": "jQ29yq9NzIcJ",
        "colab_type": "text"
      },
      "source": [
        "## Measuring your models performance\n",
        "\n",
        "**Accuracy** is a measurement of how well it classified on a given input, this is good for balanced datasets, whereby we have an equal amount of data in each class. For example ~33% Normal, ~33% Suspect, ~33% Pathological\n",
        "\n",
        "Accuracy is given by:\n",
        "\n",
        "<p align=\"center\">\n",
        "  $ Acc = \\frac{Correct Prediction}{Total Prediction} $\n",
        "</p>\n",
        "\n",
        "\n",
        "**Accuracy & Loss overtime ** allows you to get an idea of how your model perform over a number of training steps (Epochs). We can use this to determine whether our model have improved, remained stagnant or is the model getting worse over time.\n",
        "\n",
        "<center> <img src=\"https://drive.google.com/uc?export=view&id=1xSLkOrMcQbgIn-3E5gfWtpxudaEIyO2F\"/> </center>\n",
        "\n",
        "\n",
        "**Recall** is a fraction between the sum of all true positive over the sum of the condition positive, giving us all the relevant cases.\n",
        "\n",
        "<p align=\"center\">\n",
        "  $ recall= \\frac{true positive}{true positive + false negative} $\n",
        "</p>\n",
        "\n",
        "\n",
        "**Precision** is similar to recall, it identifies the relevant data. Precision is defined by the sum of all true positive over the sum of true positive plus the sum of all false positive.\n",
        "\n",
        "<p align=\"center\">\n",
        "  $ precision = \\frac{true positive}{true positive + false positive} $\n",
        "</p>\n",
        "\n",
        "\n",
        "\n",
        "\n",
        "\n",
        "**F1-Score** is the harmonic mean of recall and precision. This removes extreme cases from your metrics.  The formula is given by:\n",
        "\n",
        "<p align=\"center\">\n",
        "  $ f_1= \\left(\\frac{2}{recall^{-1} + precision^{-1}}\\right) = 2*\\frac{recall * precision}{recall + precision} $\n",
        "</p>\n",
        "\n",
        "**Specificity**\n",
        "\n",
        "<p align=\"center\">\n",
        "  $ precision = \\frac{true negative}{true negative false positive} $\n",
        "</p>\n",
        "\n",
        "\n",
        "**Confusion Matrix**\n",
        "\n",
        "Is a way of visualising all correctly classified (True positive, negative) against all incorrectly classified (False positive, negative) in a matrix.\n",
        "\n",
        "<center> <img src=\"https://drive.google.com/uc?export=view&id=16-A3bKOQzQ7u-e6BeDk8cPACwZ5ibHSS\"/> </center>\n",
        " \n",
        "<center> Image from wikipedia.org/wiki/Confusion_matrix </center>\n",
        "\n",
        "As you can see, the matrix can be used to calculate a range of metrics.\n"
      ]
    },
    {
      "cell_type": "markdown",
      "metadata": {
        "id": "xVcoqLSpzpDI",
        "colab_type": "text"
      },
      "source": [
        "## Area Under the Receiver Operating Characteristics Curve (AUROC)\n",
        "\n",
        "AUROC is also known as AUC (Area Under the Curve) ROC (Receiver Operating Characteristics) Curve. This is a performance measurement method, used in classification problems at various thresholds. ROC is the probability curve and AUC the area that falls under the curve. Higher AUC values show us that the model is very good at distinguishing between classes.\n",
        "\n",
        "**ROC** is created by plotting the True Positive Rate (Recall) against the False Positive Rate ($ 1 -Specificity $) at various thresholds. \n",
        "\n",
        "\\\n",
        "\n",
        "\\\n",
        "\n",
        "<center> <img src=\"https://miro.medium.com/max/361/1*pk05QGzoWhCgRiiFbz-oKQ.png\" height = \"400\"/> </center>\n",
        " \n",
        "<center> Image from towardsdatascience.com </center>\n",
        "\n",
        "\\\n",
        "\n",
        "**AUC** is given by the integral.\n",
        "\n",
        "<center>$AUC = \\int_{-\\infty}^\\infty f(x)dx$ </center>\n",
        "\n",
        "\n",
        "### Why is AUROC a good measurement of performance?\n",
        "\n",
        "AUROC gives you performance at every possible threshold and which give a more general performance of the model. It also allows for performance calculation on unbalanced data.\n",
        "\n",
        "\n",
        "To account for the unbalanced, we will measure model performance using F-score and AUROC curve, instead of accuracy.\n",
        "\n"
      ]
    },
    {
      "cell_type": "markdown",
      "metadata": {
        "id": "YZ7SFM-GvN70",
        "colab_type": "text"
      },
      "source": [
        "## Overfitting and Underfitting\n",
        "\n",
        "Overfitting is the process of your model following the noise of you data too closely. This model will be extremely good at classifying on your training dataset but on any unseen data this model would perform poorly.\n",
        "\n",
        "Underfitting is exactly the opposite, it is the process of your model not fitting your data. It does not find enough feature maps to best represent you data. This normally occurs when you have too simple of a model for the task.\n",
        "\n",
        "<center> <img src=\"https://scikit-learn.org/stable/_images/sphx_glr_plot_underfitting_overfitting_001.png\" height = \"400\"/> </center>\n",
        " \n",
        "<center> Image from Skikit-learn.org </center>\n"
      ]
    },
    {
      "cell_type": "markdown",
      "metadata": {
        "id": "KGsZwTdl0k4I",
        "colab_type": "text"
      },
      "source": [
        "## When should you stop training?\n",
        "\n",
        "INSERT STUFF AND USING ACCURACY OVERTIME TO SEE WHEN IT IS TIME\n",
        "\n",
        "When analyzing critical data, such as cancer, you want to aim for a larger false positive rate and a small/non-existent false negative rate, this would allow us to correctly identify as many cancer patients as possible, and those falsely diagnosed can go to the next stage of testing where a professional can unequivocally identify if they are at risk or have been falsely identified.\n"
      ]
    },
    {
      "cell_type": "markdown",
      "metadata": {
        "id": "h9UkAgiR0qu9",
        "colab_type": "text"
      },
      "source": [
        "## Data Sampling\n",
        "\n",
        "In the dataset we were given, We measure the relative frequency of each class. \n",
        " \n",
        "It can be seen that the 'Normal' class occurs much more frequently than the rest. This is a problem because correct classification of the other classes is more important. The large skew means it would be possible to obtain a high accuracy score, despite not classifying any of the more important classes correctly.\n",
        "\n",
        "In a previous section we spoke about how some metrics are good for balanced data, but in the real world find data that is truly balanced is extremely rare.\n",
        "\n",
        "Following an examples given by Shahin Rostami, let's say we have a dataset of fraudulent and non-fraudulent credit card transactions, in this dataset 99% of your data is legitimate transaction and 1% illegitimate.\n",
        "\n",
        "This a classic example of the **Accuracy Paradox**, where we are only displaying the underlying class distribution.\n",
        "\n",
        "To overcome this we can use various methods to **oversample** and **undersample** our data to get a balanced dataset, this is done either by increasing our minority class or decreasing our majority class (Very wasteful and expensive).This increases the chances of an instance being classified as one of the more important classes. \n",
        "\n",
        "Oversampling was chosen instead of undersampling so that no data was lost. We want to train our model on as much data as possible to ensure good performance when classifying real-world data.    \n",
        "\n",
        "From here onward we will only be looking at **oversampling**, but for more information about **undersampling** you can look at:\n",
        "\n",
        "- Random Undersampling\n",
        "- Cluster \n",
        "- Tomek links\n",
        "\n",
        "\\\n",
        "\n",
        "**Oversampling** is the process of creating artificial data based on the data we have already collected. There are a range of methods but some of the most popular are:\n",
        "\n",
        "> **SMOTE** also known as Synthetic Minority Oversampling Technique, uses a sample of the dataset to create new synthetic data. It takes its $k$ nearest neighbour and a sample point, generates a vector from one of the $k$ neighbours and the current point, multiplying the vector by a random value $x^0_1$ between $0$ and $1$ to create a new synthesised sample. <br /> <br /> Simply put, SMOTE takes your minority class and creates a line between it nearest neighbours, and synthesises new data that falls on the line created by the two points.\n",
        "\n",
        "> **ADASYN** also known as the Adaptive Synthetic Sampling Approach, is an expansion on SMOTE, ADASYN take into consideration the weighted distribution of various minority classes according to the difficulty of learning, generating more samples where it would be harder for our model to learn.\n",
        "\n",
        "> The weighted distribution is calculated as follows: \n",
        "\n",
        "<p align=\"center\">\n",
        "  $ Weighted Distribution = \\frac{Majority Class}{K} $\n",
        "</p>\n",
        "\n",
        "\n",
        "\n"
      ]
    },
    {
      "cell_type": "markdown",
      "metadata": {
        "id": "wJBFLkYO0uL-",
        "colab_type": "text"
      },
      "source": [
        "## Activation Functions\n",
        "Is defined as function to calculate the weighted sum of your input, it adds a bias, the network decides if the neurol should contribute to the output or not.\n",
        " \n",
        "<p align=\"center\">\n",
        "  $Y = \\sum (weight * input) + bias $\n",
        "</p>\n",
        " \n",
        "### Softmax\n",
        "Also known as the Normalised exponential function, is a function taking in a range of real numbers, returning a value that falls within a range of $0 - 1$.\n",
        " \n",
        "<p align=\"center\">\n",
        "  $ F(X_i) = \\frac{1}{1+Exp(-X_i)} $\n",
        "</p>\n",
        " \n",
        " \n",
        "### TanH\n",
        " \n",
        "Tanh is an activation function following an s-shaped curve. It allows for a gradual, non-linear activation of a neuron. The shape makes high or low classifications more likely, whilst still being bounded between two values.  \n",
        " \n",
        "<p align=\"center\">\n",
        "  $f(x) = \\frac{2}{1+e^{-2x}} $\n",
        "</p>\n",
        " \n",
        "### ReLU\n",
        " \n",
        "Also known as a Rectified Linear Unit, is an activation function whose output is linearly proportional to the input when it is above zero, and equal to zero when it is negative. It uses useful for deep networks because it has a low computational cost.\n",
        " \n",
        "<p align=\"center\">\n",
        "  $f(x) = max(0,x) $\n",
        "</p>\n",
        " \n",
        "### Leaky ReLU\n",
        " \n",
        "Leaky ReLU is the same a a ReLU activation function, but it allows for negative outputs possible as well as positive outputs. The negative outputs are linearly proportional to the inputs, although the gradient can be different for the negative and positive values. \n",
        " \n",
        "Exponential ReLU is where the negative values follow an exponential function. It is a combination of ReLU and Leaky ReLU, because it allows for negative outputs, but these tail off as the inputs become smaller. \n",
        " \n",
        " \n",
        "### Number of neurons\n",
        " \n",
        "We chose to start by designing a simple model, choosing of 21 neurons (the same number as of our input data) and shrinking down to 3 to match the number of category.\n",
        " \n",
        "### Optimizers\n",
        " \n",
        "An Optimizer is a function which calculates the output values that are learned and updated in the direction of optimal solution, i.e minimizing the Loss by training.\n",
        " \n",
        "## Justification\n",
        " \n",
        "We wanted to start with a simple model, with little parameters. This would allow us to have confidence in our changes and that these were the causes any observed performance differences\n"
      ]
    },
    {
      "cell_type": "markdown",
      "metadata": {
        "id": "-InaKxcs1CWS",
        "colab_type": "text"
      },
      "source": [
        "## What is one hot encoding?\n",
        "\n",
        "- Is a method of creating a binary classification for our classes, we create a matrix where each category is represented as follows:\n",
        "\n",
        "---      | Normal    | Suspect      | Pathological\n",
        "---      | ---       | ---          | ---\n",
        "*DPoint1*| 1         | 0            | 0\n",
        "*DPoint2*| 0         | 1            | 0\n",
        "*DPoint3*| 0         | 0            | 1\n",
        "*...*    | ...       | ...          | ...\n",
        "*DPoint**| 1         | 0            | 0\n",
        "\n",
        "- The table above is demonstrating ‘Exclusive Classes’ but we may also encounter ‘Non-Exclusive Classes’ this is where each data point can fall into multiple classes such as in object detection where an image can have multiple object but different categories.\n"
      ]
    },
    {
      "cell_type": "markdown",
      "metadata": {
        "id": "sl5-6PNZ1G0M",
        "colab_type": "text"
      },
      "source": [
        "## The Data\n",
        "\n",
        "- Our data consists of cardiography (CTG) to monitor fetal heart rate, the dataset has filtered any contractions of the uterus from the data to maintain consistency. CTG are used to monitor fetal well-being and a methods of detecting fetal distress.\n",
        "\n",
        "- Abnormal CTG means more invasive methods may be required, our aim.\n",
        "\n",
        "- Scans are classified as either Normal, Suspect or Pathological (NICE CG190) by expert Obstetricians. The dataset given has been automatically extracted from 2126 cardiotocography scans using SisPorto software. 22 features in total including the class.\n",
        "\n",
        "\n",
        "- **Variability** in a CTG scan refers to the variation of the heart rate from one beat to the next. This is a good indicator of the health of the fetus at that time (Healthy fetus’ will adapt their heart rate to changes in the environment). \n",
        "\n",
        "- A Variation of 5-25 bpm is considered normal, suspect less than 5 for between 30-50 mins and more than 25 for 15-25 mins, abnormal when bpm is less than 5 for more than 50 mins and more 25 for 25 mins or more.\n",
        "\n",
        "- **Accelerations** is seen when the baseline fetal heart rate is greater than 15 bpm for more than 15 seconds, this can be a good sign when they coincide with uterine contractions.\n",
        "\n",
        "- **Decelerations** is seen when the baseline fetal heart rate abruptly falls more than 15 bpm for more than 15 seconds. Decelerations can happen ‘hypoxic stress’, reducing its heart rate to preserve ’myocardial oxygenation and perfusion’.\n",
        "\n",
        "- There are a number of deceleration types, they vary is significance.\n",
        "- **Early Deceleration** start and end during a uterine contraction, this is due to the intracranial pressure and quickly corrects itself once the contractions end and the pressure decreases, these are considered normal.\n",
        "- **Variable Deceleration** these normally occur during labor, along with increased levels of stress and whilst this is normal the challenge is to pick up pathological fetal distress.\n",
        "- **Late Deceleration** occur at the peak of uterine contraction and subside after the contraction end, this type of deceleration indicate that there may be insufficient blood flow to the uterus and placenta, causing fetal hypoxia and acidosis.\n",
        "- **Prolonged Deceleration** are categorizing decelerations which last more than 3 minutes. Decelerations lasting between 2-3 minutes is considered non-reassuring and longer than 3 minute are classed abnormal.\n",
        "- **Sinusoidal Patterns** classes are those which have a smooth, regular, wave like pattern, these are very concerning and needs to be treated with care.\n",
        "\n",
        "- Further Reading: geekymedics.com/how-to-read-a-ctg\n"
      ]
    },
    {
      "cell_type": "markdown",
      "metadata": {
        "id": "9c3CTVSm1U6R",
        "colab_type": "text"
      },
      "source": [
        "## Hypothesis\n",
        "\n",
        "- We will be testing four models and varying two parameters, in the first experiment we will vary the number of hidden layers and in the second, we will look at how different activation functions affect the model performance.\n",
        "\n",
        "- In the first experiment, we will compare ReLU and Leaky ReLU. Our hypothesis is that ReLU and Leaky ReLU activation functions will give different performance metrics. \n",
        "\n",
        "- To eliminate all other variables, we will use a single layer perceptron, with 21 neurons, the only parameter that will change is the activation function. We expect the learning rate of the model to change, we feel that Leaky ReLU will plateau sooner than normal ReLU. \n",
        "\n",
        "- Leaky ReLU has been shown to have two benefits, it fixes the “dying ReLU” problem and it can speedup the training. \n",
        "\n",
        "- In the second experiment, we will compare how varying the number of hidden layers will impact the performance metrics. Changing between one hidden layer and doubling to two, the number of neurons will remain fixed at 21.\n",
        "\n",
        "- We Hypothesise that deeper models are able to learn more features, which may change the performance metrics, but with the downfall of longer training time due to the fact that we are increasing the number of layers.\n",
        "\n",
        "<i>TALK TO CAMILLA ABOUT HER TABLE AND WHAT CONCOLUTION SHE HAS COME TO.</i>\n",
        "\n",
        "\n",
        "- We will use a dense, feedforward neural network with 21 inputs (the features) and 3 outputs (the classes). \n",
        "- The number of hidden layers will be increased from 0-$n$. All other parameters will remain fixed.\n",
        "- Hidden layers will contain 21 neurons to match the number of inputs. \n",
        "- For each arm of the experiment, different performance is obtained depending on the weights of the connections before training. Therefore multiple models will be trained and an average performance score calculated.  \n",
        "\n",
        "\n",
        "- To measure our performance we will use AUROC, this will give us an a threshold for every given possible cut-off point for our model, the AUC will give us a quantifiable finger to easily measure against.\n",
        "\n",
        "- A z-test will be used to compare the significance of any differences in design performances. Chosen because it can be used on samples drawn from any distribution. \n",
        " \n",
        "- A sample size of 100 will be used to ensure normality (>30) and reduce the variance of the sampling distribution, whilst also not being too computationally expensive."
      ]
    },
    {
      "cell_type": "markdown",
      "metadata": {
        "id": "ulDoiU-onupg",
        "colab_type": "text"
      },
      "source": [
        "# Setup\n",
        "\n",
        "In this section, we install and import the necessary dependencies required to run this notebook.\n",
        "\n",
        "## Requirements \n",
        "- Numpy \n",
        "- Pandas \n",
        "- Matplotlib \n",
        "- Plotly \n",
        "- Tensorflow"
      ]
    },
    {
      "cell_type": "code",
      "metadata": {
        "id": "SsQH3TGokQgb",
        "colab_type": "code",
        "colab": {}
      },
      "source": [
        "# uncomment line below to install requirements\n",
        "# !pip install numpy pandas matplotlib plotly tensorflow"
      ],
      "execution_count": 0,
      "outputs": []
    },
    {
      "cell_type": "code",
      "metadata": {
        "id": "PnLLnA6mnuaq",
        "colab_type": "code",
        "outputId": "755dff19-845e-4d29-8b13-2bd5f4593e6d",
        "colab": {
          "base_uri": "https://localhost:8080/",
          "height": 54
        }
      },
      "source": [
        "try:\n",
        "  # %tensorflow_version only exists in Colab.\n",
        "  %tensorflow_version 1.x\n",
        "  %matplotlib widget\n",
        "except Exception:\n",
        "  pass\n",
        "\n",
        "# Load the TensorBoard notebook extension.\n",
        "%load_ext tensorboard"
      ],
      "execution_count": 0,
      "outputs": [
        {
          "output_type": "stream",
          "text": [
            "The tensorboard extension is already loaded. To reload it, use:\n",
            "  %reload_ext tensorboard\n"
          ],
          "name": "stdout"
        }
      ]
    },
    {
      "cell_type": "code",
      "metadata": {
        "id": "rEobgFbZ0Hag",
        "colab_type": "code",
        "outputId": "725f9ade-ea10-4dcb-98a2-3539f52f31fc",
        "colab": {
          "base_uri": "https://localhost:8080/",
          "height": 35
        }
      },
      "source": [
        "import numpy as np\n",
        "import pandas as pd\n",
        "import plotly.graph_objects as go\n",
        "import random as rand\n",
        "import matplotlib.pyplot as plt\n",
        "\n",
        "import tensorflow as tf; tf.__version__"
      ],
      "execution_count": 0,
      "outputs": [
        {
          "output_type": "execute_result",
          "data": {
            "text/plain": [
              "'1.15.0'"
            ]
          },
          "metadata": {
            "tags": []
          },
          "execution_count": 31
        }
      ]
    },
    {
      "cell_type": "code",
      "metadata": {
        "id": "gSGgmxaDn7rG",
        "colab_type": "code",
        "colab": {}
      },
      "source": [
        "# Clear any logs from previous runs\n",
        "!rm -rf ./logs/ "
      ],
      "execution_count": 0,
      "outputs": []
    },
    {
      "cell_type": "markdown",
      "metadata": {
        "id": "BXXplyuy3FGl",
        "colab_type": "text"
      },
      "source": [
        "## Dataset loading and cleanup\n",
        "\n",
        "Loading and data management is handles using Pandas.\n",
        "\n",
        "> The original xls file contains some unwanted rows and columns, we use the index and the label of columns to remove them, only keeping the data the we deem useful.\n",
        "\n",
        "\n"
      ]
    },
    {
      "cell_type": "code",
      "metadata": {
        "id": "AwveSluf0dJC",
        "colab_type": "code",
        "outputId": "9e5b6db0-3704-4fdb-c412-1c53df155a01",
        "colab": {
          "base_uri": "https://localhost:8080/",
          "height": 444
        }
      },
      "source": [
        "url_dataset   = \"https://archive.ics.uci.edu/ml/machine-learning-databases/00193/CTG.xls\"\n",
        "dataset_full  = pd.read_excel(url_dataset, sheet_name=\"Data\", header=1)\n",
        "\n",
        "# Delete unwanted rows and columns\n",
        "dataset_full                  = dataset_full.drop(dataset_full.tail(3).index) # Deleting last 3 rows\n",
        "dataset_full_columns          = dataset_full.columns\n",
        "dataset_full_columns_culled   = ['LB', 'AC.1', 'FM.1', 'UC.1', 'DL.1', 'DS.1', 'DP.1', 'ASTV','MSTV', 'ALTV', 'MLTV', 'Width', 'Min', 'Max', 'Nmax', 'Nzeros','Mode', 'Mean', 'Median', 'Variance', 'Tendency']\n",
        "\n",
        "dataset = dataset_full[dataset_full_columns_culled]\n",
        "labels  = dataset_full['NSP']\n",
        "\n",
        "dataset # Display the modified dataset"
      ],
      "execution_count": 0,
      "outputs": [
        {
          "output_type": "execute_result",
          "data": {
            "text/html": [
              "<div>\n",
              "<style scoped>\n",
              "    .dataframe tbody tr th:only-of-type {\n",
              "        vertical-align: middle;\n",
              "    }\n",
              "\n",
              "    .dataframe tbody tr th {\n",
              "        vertical-align: top;\n",
              "    }\n",
              "\n",
              "    .dataframe thead th {\n",
              "        text-align: right;\n",
              "    }\n",
              "</style>\n",
              "<table border=\"1\" class=\"dataframe\">\n",
              "  <thead>\n",
              "    <tr style=\"text-align: right;\">\n",
              "      <th></th>\n",
              "      <th>LB</th>\n",
              "      <th>AC.1</th>\n",
              "      <th>FM.1</th>\n",
              "      <th>UC.1</th>\n",
              "      <th>DL.1</th>\n",
              "      <th>DS.1</th>\n",
              "      <th>DP.1</th>\n",
              "      <th>ASTV</th>\n",
              "      <th>MSTV</th>\n",
              "      <th>ALTV</th>\n",
              "      <th>MLTV</th>\n",
              "      <th>Width</th>\n",
              "      <th>Min</th>\n",
              "      <th>Max</th>\n",
              "      <th>Nmax</th>\n",
              "      <th>Nzeros</th>\n",
              "      <th>Mode</th>\n",
              "      <th>Mean</th>\n",
              "      <th>Median</th>\n",
              "      <th>Variance</th>\n",
              "      <th>Tendency</th>\n",
              "    </tr>\n",
              "  </thead>\n",
              "  <tbody>\n",
              "    <tr>\n",
              "      <th>0</th>\n",
              "      <td>120.0</td>\n",
              "      <td>0.000000</td>\n",
              "      <td>0.000000</td>\n",
              "      <td>0.000000</td>\n",
              "      <td>0.000000</td>\n",
              "      <td>0.0</td>\n",
              "      <td>0.0</td>\n",
              "      <td>73.0</td>\n",
              "      <td>0.5</td>\n",
              "      <td>43.0</td>\n",
              "      <td>2.4</td>\n",
              "      <td>64.0</td>\n",
              "      <td>62.0</td>\n",
              "      <td>126.0</td>\n",
              "      <td>2.0</td>\n",
              "      <td>0.0</td>\n",
              "      <td>120.0</td>\n",
              "      <td>137.0</td>\n",
              "      <td>121.0</td>\n",
              "      <td>73.0</td>\n",
              "      <td>1.0</td>\n",
              "    </tr>\n",
              "    <tr>\n",
              "      <th>1</th>\n",
              "      <td>132.0</td>\n",
              "      <td>0.006380</td>\n",
              "      <td>0.000000</td>\n",
              "      <td>0.006380</td>\n",
              "      <td>0.003190</td>\n",
              "      <td>0.0</td>\n",
              "      <td>0.0</td>\n",
              "      <td>17.0</td>\n",
              "      <td>2.1</td>\n",
              "      <td>0.0</td>\n",
              "      <td>10.4</td>\n",
              "      <td>130.0</td>\n",
              "      <td>68.0</td>\n",
              "      <td>198.0</td>\n",
              "      <td>6.0</td>\n",
              "      <td>1.0</td>\n",
              "      <td>141.0</td>\n",
              "      <td>136.0</td>\n",
              "      <td>140.0</td>\n",
              "      <td>12.0</td>\n",
              "      <td>0.0</td>\n",
              "    </tr>\n",
              "    <tr>\n",
              "      <th>2</th>\n",
              "      <td>133.0</td>\n",
              "      <td>0.003322</td>\n",
              "      <td>0.000000</td>\n",
              "      <td>0.008306</td>\n",
              "      <td>0.003322</td>\n",
              "      <td>0.0</td>\n",
              "      <td>0.0</td>\n",
              "      <td>16.0</td>\n",
              "      <td>2.1</td>\n",
              "      <td>0.0</td>\n",
              "      <td>13.4</td>\n",
              "      <td>130.0</td>\n",
              "      <td>68.0</td>\n",
              "      <td>198.0</td>\n",
              "      <td>5.0</td>\n",
              "      <td>1.0</td>\n",
              "      <td>141.0</td>\n",
              "      <td>135.0</td>\n",
              "      <td>138.0</td>\n",
              "      <td>13.0</td>\n",
              "      <td>0.0</td>\n",
              "    </tr>\n",
              "    <tr>\n",
              "      <th>3</th>\n",
              "      <td>134.0</td>\n",
              "      <td>0.002561</td>\n",
              "      <td>0.000000</td>\n",
              "      <td>0.007682</td>\n",
              "      <td>0.002561</td>\n",
              "      <td>0.0</td>\n",
              "      <td>0.0</td>\n",
              "      <td>16.0</td>\n",
              "      <td>2.4</td>\n",
              "      <td>0.0</td>\n",
              "      <td>23.0</td>\n",
              "      <td>117.0</td>\n",
              "      <td>53.0</td>\n",
              "      <td>170.0</td>\n",
              "      <td>11.0</td>\n",
              "      <td>0.0</td>\n",
              "      <td>137.0</td>\n",
              "      <td>134.0</td>\n",
              "      <td>137.0</td>\n",
              "      <td>13.0</td>\n",
              "      <td>1.0</td>\n",
              "    </tr>\n",
              "    <tr>\n",
              "      <th>4</th>\n",
              "      <td>132.0</td>\n",
              "      <td>0.006515</td>\n",
              "      <td>0.000000</td>\n",
              "      <td>0.008143</td>\n",
              "      <td>0.000000</td>\n",
              "      <td>0.0</td>\n",
              "      <td>0.0</td>\n",
              "      <td>16.0</td>\n",
              "      <td>2.4</td>\n",
              "      <td>0.0</td>\n",
              "      <td>19.9</td>\n",
              "      <td>117.0</td>\n",
              "      <td>53.0</td>\n",
              "      <td>170.0</td>\n",
              "      <td>9.0</td>\n",
              "      <td>0.0</td>\n",
              "      <td>137.0</td>\n",
              "      <td>136.0</td>\n",
              "      <td>138.0</td>\n",
              "      <td>11.0</td>\n",
              "      <td>1.0</td>\n",
              "    </tr>\n",
              "    <tr>\n",
              "      <th>...</th>\n",
              "      <td>...</td>\n",
              "      <td>...</td>\n",
              "      <td>...</td>\n",
              "      <td>...</td>\n",
              "      <td>...</td>\n",
              "      <td>...</td>\n",
              "      <td>...</td>\n",
              "      <td>...</td>\n",
              "      <td>...</td>\n",
              "      <td>...</td>\n",
              "      <td>...</td>\n",
              "      <td>...</td>\n",
              "      <td>...</td>\n",
              "      <td>...</td>\n",
              "      <td>...</td>\n",
              "      <td>...</td>\n",
              "      <td>...</td>\n",
              "      <td>...</td>\n",
              "      <td>...</td>\n",
              "      <td>...</td>\n",
              "      <td>...</td>\n",
              "    </tr>\n",
              "    <tr>\n",
              "      <th>2121</th>\n",
              "      <td>140.0</td>\n",
              "      <td>0.000000</td>\n",
              "      <td>0.000000</td>\n",
              "      <td>0.007426</td>\n",
              "      <td>0.000000</td>\n",
              "      <td>0.0</td>\n",
              "      <td>0.0</td>\n",
              "      <td>79.0</td>\n",
              "      <td>0.2</td>\n",
              "      <td>25.0</td>\n",
              "      <td>7.2</td>\n",
              "      <td>40.0</td>\n",
              "      <td>137.0</td>\n",
              "      <td>177.0</td>\n",
              "      <td>4.0</td>\n",
              "      <td>0.0</td>\n",
              "      <td>153.0</td>\n",
              "      <td>150.0</td>\n",
              "      <td>152.0</td>\n",
              "      <td>2.0</td>\n",
              "      <td>0.0</td>\n",
              "    </tr>\n",
              "    <tr>\n",
              "      <th>2122</th>\n",
              "      <td>140.0</td>\n",
              "      <td>0.000775</td>\n",
              "      <td>0.000000</td>\n",
              "      <td>0.006971</td>\n",
              "      <td>0.000000</td>\n",
              "      <td>0.0</td>\n",
              "      <td>0.0</td>\n",
              "      <td>78.0</td>\n",
              "      <td>0.4</td>\n",
              "      <td>22.0</td>\n",
              "      <td>7.1</td>\n",
              "      <td>66.0</td>\n",
              "      <td>103.0</td>\n",
              "      <td>169.0</td>\n",
              "      <td>6.0</td>\n",
              "      <td>0.0</td>\n",
              "      <td>152.0</td>\n",
              "      <td>148.0</td>\n",
              "      <td>151.0</td>\n",
              "      <td>3.0</td>\n",
              "      <td>1.0</td>\n",
              "    </tr>\n",
              "    <tr>\n",
              "      <th>2123</th>\n",
              "      <td>140.0</td>\n",
              "      <td>0.000980</td>\n",
              "      <td>0.000000</td>\n",
              "      <td>0.006863</td>\n",
              "      <td>0.000000</td>\n",
              "      <td>0.0</td>\n",
              "      <td>0.0</td>\n",
              "      <td>79.0</td>\n",
              "      <td>0.4</td>\n",
              "      <td>20.0</td>\n",
              "      <td>6.1</td>\n",
              "      <td>67.0</td>\n",
              "      <td>103.0</td>\n",
              "      <td>170.0</td>\n",
              "      <td>5.0</td>\n",
              "      <td>0.0</td>\n",
              "      <td>153.0</td>\n",
              "      <td>148.0</td>\n",
              "      <td>152.0</td>\n",
              "      <td>4.0</td>\n",
              "      <td>1.0</td>\n",
              "    </tr>\n",
              "    <tr>\n",
              "      <th>2124</th>\n",
              "      <td>140.0</td>\n",
              "      <td>0.000679</td>\n",
              "      <td>0.000000</td>\n",
              "      <td>0.006110</td>\n",
              "      <td>0.000000</td>\n",
              "      <td>0.0</td>\n",
              "      <td>0.0</td>\n",
              "      <td>78.0</td>\n",
              "      <td>0.4</td>\n",
              "      <td>27.0</td>\n",
              "      <td>7.0</td>\n",
              "      <td>66.0</td>\n",
              "      <td>103.0</td>\n",
              "      <td>169.0</td>\n",
              "      <td>6.0</td>\n",
              "      <td>0.0</td>\n",
              "      <td>152.0</td>\n",
              "      <td>147.0</td>\n",
              "      <td>151.0</td>\n",
              "      <td>4.0</td>\n",
              "      <td>1.0</td>\n",
              "    </tr>\n",
              "    <tr>\n",
              "      <th>2125</th>\n",
              "      <td>142.0</td>\n",
              "      <td>0.001616</td>\n",
              "      <td>0.001616</td>\n",
              "      <td>0.008078</td>\n",
              "      <td>0.000000</td>\n",
              "      <td>0.0</td>\n",
              "      <td>0.0</td>\n",
              "      <td>74.0</td>\n",
              "      <td>0.4</td>\n",
              "      <td>36.0</td>\n",
              "      <td>5.0</td>\n",
              "      <td>42.0</td>\n",
              "      <td>117.0</td>\n",
              "      <td>159.0</td>\n",
              "      <td>2.0</td>\n",
              "      <td>1.0</td>\n",
              "      <td>145.0</td>\n",
              "      <td>143.0</td>\n",
              "      <td>145.0</td>\n",
              "      <td>1.0</td>\n",
              "      <td>0.0</td>\n",
              "    </tr>\n",
              "  </tbody>\n",
              "</table>\n",
              "<p>2126 rows × 21 columns</p>\n",
              "</div>"
            ],
            "text/plain": [
              "         LB      AC.1      FM.1      UC.1  ...   Mean  Median  Variance  Tendency\n",
              "0     120.0  0.000000  0.000000  0.000000  ...  137.0   121.0      73.0       1.0\n",
              "1     132.0  0.006380  0.000000  0.006380  ...  136.0   140.0      12.0       0.0\n",
              "2     133.0  0.003322  0.000000  0.008306  ...  135.0   138.0      13.0       0.0\n",
              "3     134.0  0.002561  0.000000  0.007682  ...  134.0   137.0      13.0       1.0\n",
              "4     132.0  0.006515  0.000000  0.008143  ...  136.0   138.0      11.0       1.0\n",
              "...     ...       ...       ...       ...  ...    ...     ...       ...       ...\n",
              "2121  140.0  0.000000  0.000000  0.007426  ...  150.0   152.0       2.0       0.0\n",
              "2122  140.0  0.000775  0.000000  0.006971  ...  148.0   151.0       3.0       1.0\n",
              "2123  140.0  0.000980  0.000000  0.006863  ...  148.0   152.0       4.0       1.0\n",
              "2124  140.0  0.000679  0.000000  0.006110  ...  147.0   151.0       4.0       1.0\n",
              "2125  142.0  0.001616  0.001616  0.008078  ...  143.0   145.0       1.0       0.0\n",
              "\n",
              "[2126 rows x 21 columns]"
            ]
          },
          "metadata": {
            "tags": []
          },
          "execution_count": 33
        }
      ]
    },
    {
      "cell_type": "markdown",
      "metadata": {
        "id": "8A6soAF3xRWU",
        "colab_type": "text"
      },
      "source": [
        "## Analysing and plotting\n",
        "\n",
        "Plotting different graphs"
      ]
    },
    {
      "cell_type": "markdown",
      "metadata": {
        "id": "Xc3btIDI9Rna",
        "colab_type": "text"
      },
      "source": [
        "### Random split dataset into training as testing\n",
        "\n",
        "Here, we use `splitDataset()` to split our data into mutiple training, testing and validation sets. By doing so, we reduce the level of influance we have when designing a model. This reduces our influance on designing a model that over fits to our data set.\n",
        "\n",
        "> The process of seeing the results and modifying our models accuracy to best fit our data will create a model that is overfitting to the current data."
      ]
    },
    {
      "cell_type": "markdown",
      "metadata": {
        "id": "HYFIMTzFZc_g",
        "colab_type": "text"
      },
      "source": [
        "Create validating dataset / add functinality to split into muttiple training sets"
      ]
    },
    {
      "cell_type": "code",
      "metadata": {
        "id": "L8CgODmu9P3f",
        "colab_type": "code",
        "colab": {}
      },
      "source": [
        "# training_percentage = 0.7\n",
        "\n",
        "# X_train  = dataset.sample(n=int(dataset.index.size * training_percentage))\n",
        "# X_test   = dataset.drop(X_train.index)\n",
        "\n",
        "# Y_train  = labels.drop(X_test.index)\n",
        "# Y_test   = labels.drop(X_train.index)\n",
        "\n",
        "# # Comparing our training and testing dataset for similarities\n",
        "\n",
        "# def Diff(li1, li2): \n",
        "#     return (list(set(li1) & set(li2))) \n",
        "\n",
        "# list1 = list(X_train.index.values)\n",
        "# list2 = list(X_test.index.values)\n",
        "\n",
        "# if Diff(list1, list2) == []:\n",
        "#   pass\n",
        "# else:\n",
        "#   raise Exception(\"Error: Found data that is shared by training and testing datas\")\n",
        "\n",
        "# # X_train\n",
        "# # X_test\n",
        "# # Y_train"
      ],
      "execution_count": 0,
      "outputs": []
    },
    {
      "cell_type": "markdown",
      "metadata": {
        "id": "pbBvvZDEkcCU",
        "colab_type": "text"
      },
      "source": [
        "Split dataset (Shahin) & one-hot encoding"
      ]
    },
    {
      "cell_type": "code",
      "metadata": {
        "id": "Ff9L-_Mqkbmk",
        "colab_type": "code",
        "colab": {}
      },
      "source": [
        "from sklearn.model_selection import train_test_split\n",
        "\n",
        "X_train, X_test, Y_train, Y_test = train_test_split(dataset,labels,test_size=0.3,random_state=0)"
      ],
      "execution_count": 0,
      "outputs": []
    },
    {
      "cell_type": "markdown",
      "metadata": {
        "id": "iThb8uCJMZlr",
        "colab_type": "text"
      },
      "source": [
        "### Showing class imbalance\n",
        "\n",
        "In realworld cenarios it is very unlickly that we find balanced datasets, wher we have equal amounts in each class we are looking to test for.\n",
        "\n",
        "> An exmaple of this could be credit card fraud, the manjority of the transations we see are genuin and a small fraction will fall under fraudulent.\n",
        "\n",
        "why is having an unbalanced dataset not good and what would be the implecations."
      ]
    },
    {
      "cell_type": "markdown",
      "metadata": {
        "id": "bo8TtiSmZiYj",
        "colab_type": "text"
      },
      "source": [
        "comment on what this is doing"
      ]
    },
    {
      "cell_type": "code",
      "metadata": {
        "id": "RG9XK0BT8xJ3",
        "colab_type": "code",
        "outputId": "338315e7-bbe1-4755-b2dd-3f0d6b975f56",
        "colab": {
          "base_uri": "https://localhost:8080/",
          "height": 217
        }
      },
      "source": [
        "value_counts = labels.value_counts()\n",
        "\n",
        "fig = go.Figure()\n",
        "fig.add_bar(x=value_counts.index, y=value_counts.values)\n",
        "fig.update_layout( width=200, height=200, margin=dict(l=20, r=20, t=20, b=20), paper_bgcolor=\"LightSteelBlue\")\n",
        "fig.show()"
      ],
      "execution_count": 0,
      "outputs": [
        {
          "output_type": "display_data",
          "data": {
            "text/html": [
              "<html>\n",
              "<head><meta charset=\"utf-8\" /></head>\n",
              "<body>\n",
              "    <div>\n",
              "            <script src=\"https://cdnjs.cloudflare.com/ajax/libs/mathjax/2.7.5/MathJax.js?config=TeX-AMS-MML_SVG\"></script><script type=\"text/javascript\">if (window.MathJax) {MathJax.Hub.Config({SVG: {font: \"STIX-Web\"}});}</script>\n",
              "                <script type=\"text/javascript\">window.PlotlyConfig = {MathJaxConfig: 'local'};</script>\n",
              "        <script src=\"https://cdn.plot.ly/plotly-latest.min.js\"></script>    \n",
              "            <div id=\"cc0c5ba4-db42-44ca-a2e6-d2abe778bad1\" class=\"plotly-graph-div\" style=\"height:200px; width:200px;\"></div>\n",
              "            <script type=\"text/javascript\">\n",
              "                \n",
              "                    window.PLOTLYENV=window.PLOTLYENV || {};\n",
              "                    \n",
              "                if (document.getElementById(\"cc0c5ba4-db42-44ca-a2e6-d2abe778bad1\")) {\n",
              "                    Plotly.newPlot(\n",
              "                        'cc0c5ba4-db42-44ca-a2e6-d2abe778bad1',\n",
              "                        [{\"type\": \"bar\", \"x\": [1.0, 2.0, 3.0], \"y\": [1655, 295, 176]}],\n",
              "                        {\"height\": 200, \"margin\": {\"b\": 20, \"l\": 20, \"r\": 20, \"t\": 20}, \"paper_bgcolor\": \"LightSteelBlue\", \"template\": {\"data\": {\"bar\": [{\"error_x\": {\"color\": \"#2a3f5f\"}, \"error_y\": {\"color\": \"#2a3f5f\"}, \"marker\": {\"line\": {\"color\": \"#E5ECF6\", \"width\": 0.5}}, \"type\": \"bar\"}], \"barpolar\": [{\"marker\": {\"line\": {\"color\": \"#E5ECF6\", \"width\": 0.5}}, \"type\": \"barpolar\"}], \"carpet\": [{\"aaxis\": {\"endlinecolor\": \"#2a3f5f\", \"gridcolor\": \"white\", \"linecolor\": \"white\", \"minorgridcolor\": \"white\", \"startlinecolor\": \"#2a3f5f\"}, \"baxis\": {\"endlinecolor\": \"#2a3f5f\", \"gridcolor\": \"white\", \"linecolor\": \"white\", \"minorgridcolor\": \"white\", \"startlinecolor\": \"#2a3f5f\"}, \"type\": \"carpet\"}], \"choropleth\": [{\"colorbar\": {\"outlinewidth\": 0, \"ticks\": \"\"}, \"type\": \"choropleth\"}], \"contour\": [{\"colorbar\": {\"outlinewidth\": 0, \"ticks\": \"\"}, \"colorscale\": [[0.0, \"#0d0887\"], [0.1111111111111111, \"#46039f\"], [0.2222222222222222, \"#7201a8\"], [0.3333333333333333, \"#9c179e\"], [0.4444444444444444, \"#bd3786\"], [0.5555555555555556, \"#d8576b\"], [0.6666666666666666, \"#ed7953\"], [0.7777777777777778, \"#fb9f3a\"], [0.8888888888888888, \"#fdca26\"], [1.0, \"#f0f921\"]], \"type\": \"contour\"}], \"contourcarpet\": [{\"colorbar\": {\"outlinewidth\": 0, \"ticks\": \"\"}, \"type\": \"contourcarpet\"}], \"heatmap\": [{\"colorbar\": {\"outlinewidth\": 0, \"ticks\": \"\"}, \"colorscale\": [[0.0, \"#0d0887\"], [0.1111111111111111, \"#46039f\"], [0.2222222222222222, \"#7201a8\"], [0.3333333333333333, \"#9c179e\"], [0.4444444444444444, \"#bd3786\"], [0.5555555555555556, \"#d8576b\"], [0.6666666666666666, \"#ed7953\"], [0.7777777777777778, \"#fb9f3a\"], [0.8888888888888888, \"#fdca26\"], [1.0, \"#f0f921\"]], \"type\": \"heatmap\"}], \"heatmapgl\": [{\"colorbar\": {\"outlinewidth\": 0, \"ticks\": \"\"}, \"colorscale\": [[0.0, \"#0d0887\"], [0.1111111111111111, \"#46039f\"], [0.2222222222222222, \"#7201a8\"], [0.3333333333333333, \"#9c179e\"], [0.4444444444444444, \"#bd3786\"], [0.5555555555555556, \"#d8576b\"], [0.6666666666666666, \"#ed7953\"], [0.7777777777777778, \"#fb9f3a\"], [0.8888888888888888, \"#fdca26\"], [1.0, \"#f0f921\"]], \"type\": \"heatmapgl\"}], \"histogram\": [{\"marker\": {\"colorbar\": {\"outlinewidth\": 0, \"ticks\": \"\"}}, \"type\": \"histogram\"}], \"histogram2d\": [{\"colorbar\": {\"outlinewidth\": 0, \"ticks\": \"\"}, \"colorscale\": [[0.0, \"#0d0887\"], [0.1111111111111111, \"#46039f\"], [0.2222222222222222, \"#7201a8\"], [0.3333333333333333, \"#9c179e\"], [0.4444444444444444, \"#bd3786\"], [0.5555555555555556, \"#d8576b\"], [0.6666666666666666, \"#ed7953\"], [0.7777777777777778, \"#fb9f3a\"], [0.8888888888888888, \"#fdca26\"], [1.0, \"#f0f921\"]], \"type\": \"histogram2d\"}], \"histogram2dcontour\": [{\"colorbar\": {\"outlinewidth\": 0, \"ticks\": \"\"}, \"colorscale\": [[0.0, \"#0d0887\"], [0.1111111111111111, \"#46039f\"], [0.2222222222222222, \"#7201a8\"], [0.3333333333333333, \"#9c179e\"], [0.4444444444444444, \"#bd3786\"], [0.5555555555555556, \"#d8576b\"], [0.6666666666666666, \"#ed7953\"], [0.7777777777777778, \"#fb9f3a\"], [0.8888888888888888, \"#fdca26\"], [1.0, \"#f0f921\"]], \"type\": \"histogram2dcontour\"}], \"mesh3d\": [{\"colorbar\": {\"outlinewidth\": 0, \"ticks\": \"\"}, \"type\": \"mesh3d\"}], \"parcoords\": [{\"line\": {\"colorbar\": {\"outlinewidth\": 0, \"ticks\": \"\"}}, \"type\": \"parcoords\"}], \"scatter\": [{\"marker\": {\"colorbar\": {\"outlinewidth\": 0, \"ticks\": \"\"}}, \"type\": \"scatter\"}], \"scatter3d\": [{\"line\": {\"colorbar\": {\"outlinewidth\": 0, \"ticks\": \"\"}}, \"marker\": {\"colorbar\": {\"outlinewidth\": 0, \"ticks\": \"\"}}, \"type\": \"scatter3d\"}], \"scattercarpet\": [{\"marker\": {\"colorbar\": {\"outlinewidth\": 0, \"ticks\": \"\"}}, \"type\": \"scattercarpet\"}], \"scattergeo\": [{\"marker\": {\"colorbar\": {\"outlinewidth\": 0, \"ticks\": \"\"}}, \"type\": \"scattergeo\"}], \"scattergl\": [{\"marker\": {\"colorbar\": {\"outlinewidth\": 0, \"ticks\": \"\"}}, \"type\": \"scattergl\"}], \"scattermapbox\": [{\"marker\": {\"colorbar\": {\"outlinewidth\": 0, \"ticks\": \"\"}}, \"type\": \"scattermapbox\"}], \"scatterpolar\": [{\"marker\": {\"colorbar\": {\"outlinewidth\": 0, \"ticks\": \"\"}}, \"type\": \"scatterpolar\"}], \"scatterpolargl\": [{\"marker\": {\"colorbar\": {\"outlinewidth\": 0, \"ticks\": \"\"}}, \"type\": \"scatterpolargl\"}], \"scatterternary\": [{\"marker\": {\"colorbar\": {\"outlinewidth\": 0, \"ticks\": \"\"}}, \"type\": \"scatterternary\"}], \"surface\": [{\"colorbar\": {\"outlinewidth\": 0, \"ticks\": \"\"}, \"colorscale\": [[0.0, \"#0d0887\"], [0.1111111111111111, \"#46039f\"], [0.2222222222222222, \"#7201a8\"], [0.3333333333333333, \"#9c179e\"], [0.4444444444444444, \"#bd3786\"], [0.5555555555555556, \"#d8576b\"], [0.6666666666666666, \"#ed7953\"], [0.7777777777777778, \"#fb9f3a\"], [0.8888888888888888, \"#fdca26\"], [1.0, \"#f0f921\"]], \"type\": \"surface\"}], \"table\": [{\"cells\": {\"fill\": {\"color\": \"#EBF0F8\"}, \"line\": {\"color\": \"white\"}}, \"header\": {\"fill\": {\"color\": \"#C8D4E3\"}, \"line\": {\"color\": \"white\"}}, \"type\": \"table\"}]}, \"layout\": {\"annotationdefaults\": {\"arrowcolor\": \"#2a3f5f\", \"arrowhead\": 0, \"arrowwidth\": 1}, \"colorscale\": {\"diverging\": [[0, \"#8e0152\"], [0.1, \"#c51b7d\"], [0.2, \"#de77ae\"], [0.3, \"#f1b6da\"], [0.4, \"#fde0ef\"], [0.5, \"#f7f7f7\"], [0.6, \"#e6f5d0\"], [0.7, \"#b8e186\"], [0.8, \"#7fbc41\"], [0.9, \"#4d9221\"], [1, \"#276419\"]], \"sequential\": [[0.0, \"#0d0887\"], [0.1111111111111111, \"#46039f\"], [0.2222222222222222, \"#7201a8\"], [0.3333333333333333, \"#9c179e\"], [0.4444444444444444, \"#bd3786\"], [0.5555555555555556, \"#d8576b\"], [0.6666666666666666, \"#ed7953\"], [0.7777777777777778, \"#fb9f3a\"], [0.8888888888888888, \"#fdca26\"], [1.0, \"#f0f921\"]], \"sequentialminus\": [[0.0, \"#0d0887\"], [0.1111111111111111, \"#46039f\"], [0.2222222222222222, \"#7201a8\"], [0.3333333333333333, \"#9c179e\"], [0.4444444444444444, \"#bd3786\"], [0.5555555555555556, \"#d8576b\"], [0.6666666666666666, \"#ed7953\"], [0.7777777777777778, \"#fb9f3a\"], [0.8888888888888888, \"#fdca26\"], [1.0, \"#f0f921\"]]}, \"colorway\": [\"#636efa\", \"#EF553B\", \"#00cc96\", \"#ab63fa\", \"#FFA15A\", \"#19d3f3\", \"#FF6692\", \"#B6E880\", \"#FF97FF\", \"#FECB52\"], \"font\": {\"color\": \"#2a3f5f\"}, \"geo\": {\"bgcolor\": \"white\", \"lakecolor\": \"white\", \"landcolor\": \"#E5ECF6\", \"showlakes\": true, \"showland\": true, \"subunitcolor\": \"white\"}, \"hoverlabel\": {\"align\": \"left\"}, \"hovermode\": \"closest\", \"mapbox\": {\"style\": \"light\"}, \"paper_bgcolor\": \"white\", \"plot_bgcolor\": \"#E5ECF6\", \"polar\": {\"angularaxis\": {\"gridcolor\": \"white\", \"linecolor\": \"white\", \"ticks\": \"\"}, \"bgcolor\": \"#E5ECF6\", \"radialaxis\": {\"gridcolor\": \"white\", \"linecolor\": \"white\", \"ticks\": \"\"}}, \"scene\": {\"xaxis\": {\"backgroundcolor\": \"#E5ECF6\", \"gridcolor\": \"white\", \"gridwidth\": 2, \"linecolor\": \"white\", \"showbackground\": true, \"ticks\": \"\", \"zerolinecolor\": \"white\"}, \"yaxis\": {\"backgroundcolor\": \"#E5ECF6\", \"gridcolor\": \"white\", \"gridwidth\": 2, \"linecolor\": \"white\", \"showbackground\": true, \"ticks\": \"\", \"zerolinecolor\": \"white\"}, \"zaxis\": {\"backgroundcolor\": \"#E5ECF6\", \"gridcolor\": \"white\", \"gridwidth\": 2, \"linecolor\": \"white\", \"showbackground\": true, \"ticks\": \"\", \"zerolinecolor\": \"white\"}}, \"shapedefaults\": {\"line\": {\"color\": \"#2a3f5f\"}}, \"ternary\": {\"aaxis\": {\"gridcolor\": \"white\", \"linecolor\": \"white\", \"ticks\": \"\"}, \"baxis\": {\"gridcolor\": \"white\", \"linecolor\": \"white\", \"ticks\": \"\"}, \"bgcolor\": \"#E5ECF6\", \"caxis\": {\"gridcolor\": \"white\", \"linecolor\": \"white\", \"ticks\": \"\"}}, \"title\": {\"x\": 0.05}, \"xaxis\": {\"automargin\": true, \"gridcolor\": \"white\", \"linecolor\": \"white\", \"ticks\": \"\", \"zerolinecolor\": \"white\", \"zerolinewidth\": 2}, \"yaxis\": {\"automargin\": true, \"gridcolor\": \"white\", \"linecolor\": \"white\", \"ticks\": \"\", \"zerolinecolor\": \"white\", \"zerolinewidth\": 2}}}, \"width\": 200},\n",
              "                        {\"responsive\": true}\n",
              "                    ).then(function(){\n",
              "                            \n",
              "var gd = document.getElementById('cc0c5ba4-db42-44ca-a2e6-d2abe778bad1');\n",
              "var x = new MutationObserver(function (mutations, observer) {{\n",
              "        var display = window.getComputedStyle(gd).display;\n",
              "        if (!display || display === 'none') {{\n",
              "            console.log([gd, 'removed!']);\n",
              "            Plotly.purge(gd);\n",
              "            observer.disconnect();\n",
              "        }}\n",
              "}});\n",
              "\n",
              "// Listen for the removal of the full notebook cells\n",
              "var notebookContainer = gd.closest('#notebook-container');\n",
              "if (notebookContainer) {{\n",
              "    x.observe(notebookContainer, {childList: true});\n",
              "}}\n",
              "\n",
              "// Listen for the clearing of the current output cell\n",
              "var outputEl = gd.closest('.output');\n",
              "if (outputEl) {{\n",
              "    x.observe(outputEl, {childList: true});\n",
              "}}\n",
              "\n",
              "                        })\n",
              "                };\n",
              "                \n",
              "            </script>\n",
              "        </div>\n",
              "</body>\n",
              "</html>"
            ]
          },
          "metadata": {
            "tags": []
          }
        }
      ]
    },
    {
      "cell_type": "markdown",
      "metadata": {
        "id": "-hFXmqUnMsWp",
        "colab_type": "text"
      },
      "source": [
        "### Oversamplign methods\n",
        "\n",
        "[SMOTE VS ADASYN](https://imbalanced-learn.readthedocs.io/en/stable/over_sampling.html)\n",
        "\n",
        "\n",
        "Continuing from the previous text cell. we demonstrate one solution to overcoming this shortfall, sampling.\n",
        "\n",
        "Sampalling is the process of genorating new data in realation to what our dataset already contains. \n",
        "\n",
        "sampling can be catagorised in two subcatagory, oversampling and undersampling.\n",
        "\n",
        "- **Oversampling:** the porcess of creating additinal data which simulates that of our minority class\n",
        "- **Undersampling:** the porcess of culling some of our data from the majority class."
      ]
    },
    {
      "cell_type": "markdown",
      "metadata": {
        "id": "z1x4vQgEZ6W8",
        "colab_type": "text"
      },
      "source": [
        "Here we use oversampling. we have created `insert number of sampling methods` functions which genorates oversampled data.\n",
        "\n",
        "`oversample_ADASYN()` explain how ADASYN works\n",
        "\n",
        "`oversample_SMOTE()`explain how SMOTE works"
      ]
    },
    {
      "cell_type": "code",
      "metadata": {
        "id": "vFLme9pY1HII",
        "colab_type": "code",
        "outputId": "7608d282-da50-418c-e025-65946214d298",
        "colab": {
          "base_uri": "https://localhost:8080/",
          "height": 217
        }
      },
      "source": [
        "def oversample_ADASYN(_dataset, _labels):\n",
        "  from imblearn.over_sampling import ADASYN\n",
        "\n",
        "  features_resampled, labels_resampled = ADASYN().fit_sample(_dataset, _labels)\n",
        "\n",
        "  labels_resampled = pd.DataFrame(labels_resampled, columns=['NSP'])\n",
        "  value_counts = labels_resampled['NSP'].value_counts()\n",
        "\n",
        "  return labels_resampled, features_resampled, value_counts\n",
        "\n",
        "def oversample_SMOTE(_dataset, _labels):\n",
        "  from imblearn.over_sampling import SMOTE\n",
        "\n",
        "  features_resampled, labels_resampled = SMOTE().fit_sample(_dataset, _labels)\n",
        "\n",
        "  labels_resampled = pd.DataFrame(labels_resampled, columns=['NSP'])\n",
        "  value_counts = labels_resampled['NSP'].value_counts()\n",
        "\n",
        "  return labels_resampled, features_resampled, value_counts\n",
        "\n",
        "labels_resampled, features_resampled, value_counts = oversample_ADASYN(X_train, Y_train)\n",
        "# labels_resampled, features_resampled, value_counts = oversample_SMOTE(X_train, Y_train)\n",
        "\n",
        "# Visualise newly oversampled data\n",
        "fig = go.Figure()\n",
        "fig.add_bar(x=value_counts.index, y=value_counts.values)\n",
        "fig.update_layout( width=200, height=200, margin=dict(l=20, r=20, t=20, b=20), paper_bgcolor=\"LightSteelBlue\")\n",
        "fig.show()"
      ],
      "execution_count": 0,
      "outputs": [
        {
          "output_type": "display_data",
          "data": {
            "text/html": [
              "<html>\n",
              "<head><meta charset=\"utf-8\" /></head>\n",
              "<body>\n",
              "    <div>\n",
              "            <script src=\"https://cdnjs.cloudflare.com/ajax/libs/mathjax/2.7.5/MathJax.js?config=TeX-AMS-MML_SVG\"></script><script type=\"text/javascript\">if (window.MathJax) {MathJax.Hub.Config({SVG: {font: \"STIX-Web\"}});}</script>\n",
              "                <script type=\"text/javascript\">window.PlotlyConfig = {MathJaxConfig: 'local'};</script>\n",
              "        <script src=\"https://cdn.plot.ly/plotly-latest.min.js\"></script>    \n",
              "            <div id=\"07151c69-8c38-4a88-8495-63650d2d43d5\" class=\"plotly-graph-div\" style=\"height:200px; width:200px;\"></div>\n",
              "            <script type=\"text/javascript\">\n",
              "                \n",
              "                    window.PLOTLYENV=window.PLOTLYENV || {};\n",
              "                    \n",
              "                if (document.getElementById(\"07151c69-8c38-4a88-8495-63650d2d43d5\")) {\n",
              "                    Plotly.newPlot(\n",
              "                        '07151c69-8c38-4a88-8495-63650d2d43d5',\n",
              "                        [{\"type\": \"bar\", \"x\": [1.0, 3.0, 2.0], \"y\": [1161, 1150, 1133]}],\n",
              "                        {\"height\": 200, \"margin\": {\"b\": 20, \"l\": 20, \"r\": 20, \"t\": 20}, \"paper_bgcolor\": \"LightSteelBlue\", \"template\": {\"data\": {\"bar\": [{\"error_x\": {\"color\": \"#2a3f5f\"}, \"error_y\": {\"color\": \"#2a3f5f\"}, \"marker\": {\"line\": {\"color\": \"#E5ECF6\", \"width\": 0.5}}, \"type\": \"bar\"}], \"barpolar\": [{\"marker\": {\"line\": {\"color\": \"#E5ECF6\", \"width\": 0.5}}, \"type\": \"barpolar\"}], \"carpet\": [{\"aaxis\": {\"endlinecolor\": \"#2a3f5f\", \"gridcolor\": \"white\", \"linecolor\": \"white\", \"minorgridcolor\": \"white\", \"startlinecolor\": \"#2a3f5f\"}, \"baxis\": {\"endlinecolor\": \"#2a3f5f\", \"gridcolor\": \"white\", \"linecolor\": \"white\", \"minorgridcolor\": \"white\", \"startlinecolor\": \"#2a3f5f\"}, \"type\": \"carpet\"}], \"choropleth\": [{\"colorbar\": {\"outlinewidth\": 0, \"ticks\": \"\"}, \"type\": \"choropleth\"}], \"contour\": [{\"colorbar\": {\"outlinewidth\": 0, \"ticks\": \"\"}, \"colorscale\": [[0.0, \"#0d0887\"], [0.1111111111111111, \"#46039f\"], [0.2222222222222222, \"#7201a8\"], [0.3333333333333333, \"#9c179e\"], [0.4444444444444444, \"#bd3786\"], [0.5555555555555556, \"#d8576b\"], [0.6666666666666666, \"#ed7953\"], [0.7777777777777778, \"#fb9f3a\"], [0.8888888888888888, \"#fdca26\"], [1.0, \"#f0f921\"]], \"type\": \"contour\"}], \"contourcarpet\": [{\"colorbar\": {\"outlinewidth\": 0, \"ticks\": \"\"}, \"type\": \"contourcarpet\"}], \"heatmap\": [{\"colorbar\": {\"outlinewidth\": 0, \"ticks\": \"\"}, \"colorscale\": [[0.0, \"#0d0887\"], [0.1111111111111111, \"#46039f\"], [0.2222222222222222, \"#7201a8\"], [0.3333333333333333, \"#9c179e\"], [0.4444444444444444, \"#bd3786\"], [0.5555555555555556, \"#d8576b\"], [0.6666666666666666, \"#ed7953\"], [0.7777777777777778, \"#fb9f3a\"], [0.8888888888888888, \"#fdca26\"], [1.0, \"#f0f921\"]], \"type\": \"heatmap\"}], \"heatmapgl\": [{\"colorbar\": {\"outlinewidth\": 0, \"ticks\": \"\"}, \"colorscale\": [[0.0, \"#0d0887\"], [0.1111111111111111, \"#46039f\"], [0.2222222222222222, \"#7201a8\"], [0.3333333333333333, \"#9c179e\"], [0.4444444444444444, \"#bd3786\"], [0.5555555555555556, \"#d8576b\"], [0.6666666666666666, \"#ed7953\"], [0.7777777777777778, \"#fb9f3a\"], [0.8888888888888888, \"#fdca26\"], [1.0, \"#f0f921\"]], \"type\": \"heatmapgl\"}], \"histogram\": [{\"marker\": {\"colorbar\": {\"outlinewidth\": 0, \"ticks\": \"\"}}, \"type\": \"histogram\"}], \"histogram2d\": [{\"colorbar\": {\"outlinewidth\": 0, \"ticks\": \"\"}, \"colorscale\": [[0.0, \"#0d0887\"], [0.1111111111111111, \"#46039f\"], [0.2222222222222222, \"#7201a8\"], [0.3333333333333333, \"#9c179e\"], [0.4444444444444444, \"#bd3786\"], [0.5555555555555556, \"#d8576b\"], [0.6666666666666666, \"#ed7953\"], [0.7777777777777778, \"#fb9f3a\"], [0.8888888888888888, \"#fdca26\"], [1.0, \"#f0f921\"]], \"type\": \"histogram2d\"}], \"histogram2dcontour\": [{\"colorbar\": {\"outlinewidth\": 0, \"ticks\": \"\"}, \"colorscale\": [[0.0, \"#0d0887\"], [0.1111111111111111, \"#46039f\"], [0.2222222222222222, \"#7201a8\"], [0.3333333333333333, \"#9c179e\"], [0.4444444444444444, \"#bd3786\"], [0.5555555555555556, \"#d8576b\"], [0.6666666666666666, \"#ed7953\"], [0.7777777777777778, \"#fb9f3a\"], [0.8888888888888888, \"#fdca26\"], [1.0, \"#f0f921\"]], \"type\": \"histogram2dcontour\"}], \"mesh3d\": [{\"colorbar\": {\"outlinewidth\": 0, \"ticks\": \"\"}, \"type\": \"mesh3d\"}], \"parcoords\": [{\"line\": {\"colorbar\": {\"outlinewidth\": 0, \"ticks\": \"\"}}, \"type\": \"parcoords\"}], \"scatter\": [{\"marker\": {\"colorbar\": {\"outlinewidth\": 0, \"ticks\": \"\"}}, \"type\": \"scatter\"}], \"scatter3d\": [{\"line\": {\"colorbar\": {\"outlinewidth\": 0, \"ticks\": \"\"}}, \"marker\": {\"colorbar\": {\"outlinewidth\": 0, \"ticks\": \"\"}}, \"type\": \"scatter3d\"}], \"scattercarpet\": [{\"marker\": {\"colorbar\": {\"outlinewidth\": 0, \"ticks\": \"\"}}, \"type\": \"scattercarpet\"}], \"scattergeo\": [{\"marker\": {\"colorbar\": {\"outlinewidth\": 0, \"ticks\": \"\"}}, \"type\": \"scattergeo\"}], \"scattergl\": [{\"marker\": {\"colorbar\": {\"outlinewidth\": 0, \"ticks\": \"\"}}, \"type\": \"scattergl\"}], \"scattermapbox\": [{\"marker\": {\"colorbar\": {\"outlinewidth\": 0, \"ticks\": \"\"}}, \"type\": \"scattermapbox\"}], \"scatterpolar\": [{\"marker\": {\"colorbar\": {\"outlinewidth\": 0, \"ticks\": \"\"}}, \"type\": \"scatterpolar\"}], \"scatterpolargl\": [{\"marker\": {\"colorbar\": {\"outlinewidth\": 0, \"ticks\": \"\"}}, \"type\": \"scatterpolargl\"}], \"scatterternary\": [{\"marker\": {\"colorbar\": {\"outlinewidth\": 0, \"ticks\": \"\"}}, \"type\": \"scatterternary\"}], \"surface\": [{\"colorbar\": {\"outlinewidth\": 0, \"ticks\": \"\"}, \"colorscale\": [[0.0, \"#0d0887\"], [0.1111111111111111, \"#46039f\"], [0.2222222222222222, \"#7201a8\"], [0.3333333333333333, \"#9c179e\"], [0.4444444444444444, \"#bd3786\"], [0.5555555555555556, \"#d8576b\"], [0.6666666666666666, \"#ed7953\"], [0.7777777777777778, \"#fb9f3a\"], [0.8888888888888888, \"#fdca26\"], [1.0, \"#f0f921\"]], \"type\": \"surface\"}], \"table\": [{\"cells\": {\"fill\": {\"color\": \"#EBF0F8\"}, \"line\": {\"color\": \"white\"}}, \"header\": {\"fill\": {\"color\": \"#C8D4E3\"}, \"line\": {\"color\": \"white\"}}, \"type\": \"table\"}]}, \"layout\": {\"annotationdefaults\": {\"arrowcolor\": \"#2a3f5f\", \"arrowhead\": 0, \"arrowwidth\": 1}, \"colorscale\": {\"diverging\": [[0, \"#8e0152\"], [0.1, \"#c51b7d\"], [0.2, \"#de77ae\"], [0.3, \"#f1b6da\"], [0.4, \"#fde0ef\"], [0.5, \"#f7f7f7\"], [0.6, \"#e6f5d0\"], [0.7, \"#b8e186\"], [0.8, \"#7fbc41\"], [0.9, \"#4d9221\"], [1, \"#276419\"]], \"sequential\": [[0.0, \"#0d0887\"], [0.1111111111111111, \"#46039f\"], [0.2222222222222222, \"#7201a8\"], [0.3333333333333333, \"#9c179e\"], [0.4444444444444444, \"#bd3786\"], [0.5555555555555556, \"#d8576b\"], [0.6666666666666666, \"#ed7953\"], [0.7777777777777778, \"#fb9f3a\"], [0.8888888888888888, \"#fdca26\"], [1.0, \"#f0f921\"]], \"sequentialminus\": [[0.0, \"#0d0887\"], [0.1111111111111111, \"#46039f\"], [0.2222222222222222, \"#7201a8\"], [0.3333333333333333, \"#9c179e\"], [0.4444444444444444, \"#bd3786\"], [0.5555555555555556, \"#d8576b\"], [0.6666666666666666, \"#ed7953\"], [0.7777777777777778, \"#fb9f3a\"], [0.8888888888888888, \"#fdca26\"], [1.0, \"#f0f921\"]]}, \"colorway\": [\"#636efa\", \"#EF553B\", \"#00cc96\", \"#ab63fa\", \"#FFA15A\", \"#19d3f3\", \"#FF6692\", \"#B6E880\", \"#FF97FF\", \"#FECB52\"], \"font\": {\"color\": \"#2a3f5f\"}, \"geo\": {\"bgcolor\": \"white\", \"lakecolor\": \"white\", \"landcolor\": \"#E5ECF6\", \"showlakes\": true, \"showland\": true, \"subunitcolor\": \"white\"}, \"hoverlabel\": {\"align\": \"left\"}, \"hovermode\": \"closest\", \"mapbox\": {\"style\": \"light\"}, \"paper_bgcolor\": \"white\", \"plot_bgcolor\": \"#E5ECF6\", \"polar\": {\"angularaxis\": {\"gridcolor\": \"white\", \"linecolor\": \"white\", \"ticks\": \"\"}, \"bgcolor\": \"#E5ECF6\", \"radialaxis\": {\"gridcolor\": \"white\", \"linecolor\": \"white\", \"ticks\": \"\"}}, \"scene\": {\"xaxis\": {\"backgroundcolor\": \"#E5ECF6\", \"gridcolor\": \"white\", \"gridwidth\": 2, \"linecolor\": \"white\", \"showbackground\": true, \"ticks\": \"\", \"zerolinecolor\": \"white\"}, \"yaxis\": {\"backgroundcolor\": \"#E5ECF6\", \"gridcolor\": \"white\", \"gridwidth\": 2, \"linecolor\": \"white\", \"showbackground\": true, \"ticks\": \"\", \"zerolinecolor\": \"white\"}, \"zaxis\": {\"backgroundcolor\": \"#E5ECF6\", \"gridcolor\": \"white\", \"gridwidth\": 2, \"linecolor\": \"white\", \"showbackground\": true, \"ticks\": \"\", \"zerolinecolor\": \"white\"}}, \"shapedefaults\": {\"line\": {\"color\": \"#2a3f5f\"}}, \"ternary\": {\"aaxis\": {\"gridcolor\": \"white\", \"linecolor\": \"white\", \"ticks\": \"\"}, \"baxis\": {\"gridcolor\": \"white\", \"linecolor\": \"white\", \"ticks\": \"\"}, \"bgcolor\": \"#E5ECF6\", \"caxis\": {\"gridcolor\": \"white\", \"linecolor\": \"white\", \"ticks\": \"\"}}, \"title\": {\"x\": 0.05}, \"xaxis\": {\"automargin\": true, \"gridcolor\": \"white\", \"linecolor\": \"white\", \"ticks\": \"\", \"zerolinecolor\": \"white\", \"zerolinewidth\": 2}, \"yaxis\": {\"automargin\": true, \"gridcolor\": \"white\", \"linecolor\": \"white\", \"ticks\": \"\", \"zerolinecolor\": \"white\", \"zerolinewidth\": 2}}}, \"width\": 200},\n",
              "                        {\"responsive\": true}\n",
              "                    ).then(function(){\n",
              "                            \n",
              "var gd = document.getElementById('07151c69-8c38-4a88-8495-63650d2d43d5');\n",
              "var x = new MutationObserver(function (mutations, observer) {{\n",
              "        var display = window.getComputedStyle(gd).display;\n",
              "        if (!display || display === 'none') {{\n",
              "            console.log([gd, 'removed!']);\n",
              "            Plotly.purge(gd);\n",
              "            observer.disconnect();\n",
              "        }}\n",
              "}});\n",
              "\n",
              "// Listen for the removal of the full notebook cells\n",
              "var notebookContainer = gd.closest('#notebook-container');\n",
              "if (notebookContainer) {{\n",
              "    x.observe(notebookContainer, {childList: true});\n",
              "}}\n",
              "\n",
              "// Listen for the clearing of the current output cell\n",
              "var outputEl = gd.closest('.output');\n",
              "if (outputEl) {{\n",
              "    x.observe(outputEl, {childList: true});\n",
              "}}\n",
              "\n",
              "                        })\n",
              "                };\n",
              "                \n",
              "            </script>\n",
              "        </div>\n",
              "</body>\n",
              "</html>"
            ]
          },
          "metadata": {
            "tags": []
          }
        }
      ]
    },
    {
      "cell_type": "markdown",
      "metadata": {
        "id": "zl6ooW5UZ-uA",
        "colab_type": "text"
      },
      "source": [
        "comment on what this is doing\n",
        "\n",
        "What is one hot encoding"
      ]
    },
    {
      "cell_type": "code",
      "metadata": {
        "id": "HWTJKYYcuGMb",
        "colab_type": "code",
        "colab": {}
      },
      "source": [
        "training_cat_code = labels_resampled['NSP'].astype('category').cat.codes\n",
        "training_cat_code_one_hot = tf.keras.utils.to_categorical(training_cat_code, num_classes=None)\n",
        "\n",
        "test_cat_code = Y_test.astype('category').cat.codes\n",
        "test_cat_code_one_hot = tf.keras.utils.to_categorical(test_cat_code, num_classes=None)"
      ],
      "execution_count": 0,
      "outputs": []
    },
    {
      "cell_type": "markdown",
      "metadata": {
        "id": "q6Z1DjkxLWlt",
        "colab_type": "text"
      },
      "source": [
        "## Defining models"
      ]
    },
    {
      "cell_type": "markdown",
      "metadata": {
        "id": "D5TU8tbv9j-C",
        "colab_type": "text"
      },
      "source": [
        "Single layer perceptron\n",
        "\n",
        "The activation function"
      ]
    },
    {
      "cell_type": "code",
      "metadata": {
        "id": "FEIiOJsT1d5a",
        "colab_type": "code",
        "colab": {}
      },
      "source": [
        "def model_perceptron():\n",
        "  print(\"################# Creating model_perceptron #################\")\n",
        "  model = tf.keras.Sequential()\n",
        "  model.add(tf.keras.layers.Dense(units=21, input_shape=(21,), activation='tanh'))\n",
        "  model.add(tf.keras.layers.Dense(3, activation='softmax'))\n",
        "\n",
        "  model.compile(tf.keras.optimizers.Adam(), 'categorical_crossentropy', metrics=['accuracy'])\n",
        "  # model.summary()\n",
        "  return model"
      ],
      "execution_count": 0,
      "outputs": []
    },
    {
      "cell_type": "code",
      "metadata": {
        "id": "5Q5nVDzb8Z-e",
        "colab_type": "code",
        "outputId": "b117129d-4137-421e-d637-f3a1424aace5",
        "colab": {
          "base_uri": "https://localhost:8080/",
          "height": 139
        }
      },
      "source": [
        "model = model_perceptron()\n",
        "tf.keras.utils.plot_model(\n",
        "    model,\n",
        "    show_shapes=True,\n",
        "    show_layer_names=False,\n",
        "    rankdir='LR',\n",
        "    expand_nested=False,\n",
        ")"
      ],
      "execution_count": 0,
      "outputs": [
        {
          "output_type": "stream",
          "text": [
            "################# Creating model_perceptron #################\n"
          ],
          "name": "stdout"
        },
        {
          "output_type": "execute_result",
          "data": {
            "image/png": "[encoded data removed]",
            "text/plain": [
              "<IPython.core.display.Image object>"
            ]
          },
          "metadata": {
            "tags": []
          },
          "execution_count": 65
        }
      ]
    },
    {
      "cell_type": "code",
      "metadata": {
        "id": "GPVa80CyqnEb",
        "colab_type": "code",
        "colab": {}
      },
      "source": [
        "def model_perceptron_v2():\n",
        "  print(\"################# Creating model_perceptron #################\")\n",
        "  model = tf.keras.Sequential()\n",
        "  model.add(tf.keras.layers.Dense(units=21, input_shape=(21,), activation='tanh'))\n",
        "  model.add(tf.keras.layers.Dense(16, activation='relu'))\n",
        "  model.add(tf.keras.layers.Dropout(0.2))\n",
        "  model.add(tf.keras.layers.Dense(3, activation='softmax'))\n",
        "\n",
        "  model.compile(tf.keras.optimizers.Adam(), 'categorical_crossentropy', metrics=['accuracy'])\n",
        "  # model.summary()\n",
        "  return model"
      ],
      "execution_count": 0,
      "outputs": []
    },
    {
      "cell_type": "code",
      "metadata": {
        "id": "0uTVa28_-z53",
        "colab_type": "code",
        "outputId": "3a54cf7d-0579-4953-f1ad-98bd22a896a6",
        "colab": {
          "base_uri": "https://localhost:8080/",
          "height": 159
        }
      },
      "source": [
        "model = model_perceptron_v2()\n",
        "tf.keras.utils.plot_model(\n",
        "    model,\n",
        "    show_shapes=True,\n",
        "    show_layer_names=False,\n",
        "    rankdir='LR',\n",
        "    expand_nested=False,\n",
        ")"
      ],
      "execution_count": 0,
      "outputs": [
        {
          "output_type": "stream",
          "text": [
            "################# Creating model_perceptron #################\n"
          ],
          "name": "stdout"
        },
        {
          "output_type": "execute_result",
          "data": {
            "image/png": "[encoded data removed]",
            "text/plain": [
              "<IPython.core.display.Image object>"
            ]
          },
          "metadata": {
            "tags": []
          },
          "execution_count": 64
        }
      ]
    },
    {
      "cell_type": "markdown",
      "metadata": {
        "id": "Her-ZI8-FEKN",
        "colab_type": "text"
      },
      "source": [
        "Random perceptron"
      ]
    },
    {
      "cell_type": "code",
      "metadata": {
        "id": "P-7JdEiTFC49",
        "colab_type": "code",
        "colab": {}
      },
      "source": [
        "def model_random_num_layers_perceptron(_randRange):\n",
        "  print(\"################# Creating model_perceptron #################\")\n",
        "  model = tf.keras.Sequential()\n",
        "  model.add(tf.keras.layers.Dense(units=21, input_shape=(21,), activation='tanh'))\n",
        "  model.add(tf.keras.layers.Dense(units=3 , activation='softmax'))\n",
        "\n",
        "  # randomly genorating layers based on the input _randRange\n",
        "  for i in range(_randRange):\n",
        "    model.add(tf.keras.layers.Dense(units=3, activation='softmax'))\n",
        "\n",
        "  model.compile(tf.keras.optimizers.Adam(), 'categorical_crossentropy', metrics=['accuracy'])\n",
        "  model.summary()\n",
        "  return model"
      ],
      "execution_count": 0,
      "outputs": []
    },
    {
      "cell_type": "code",
      "metadata": {
        "id": "M1W04oADkSiM",
        "colab_type": "code",
        "colab": {}
      },
      "source": [
        "def model_random_num_neurons_perceptron(_numNeurons):\n",
        "  print(\"################# Creating model_perceptron #################\")\n",
        "  model = tf.keras.Sequential()\n",
        "  model.add(tf.keras.layers.Dense(units=_numNeurons, activation='tanh', input_shape=(21,), ))\n",
        "  model.add(tf.keras.layers.Dense(units=_numNeurons, activation='softmax'))\n",
        "\n",
        "  model.compile(tf.keras.optimizers.Adam(), 'categorical_crossentropy', metrics=['accuracy'])\n",
        "  model.summary()\n",
        "  return model"
      ],
      "execution_count": 0,
      "outputs": []
    },
    {
      "cell_type": "code",
      "metadata": {
        "id": "kztbeirZhiNj",
        "colab_type": "code",
        "colab": {}
      },
      "source": [
        "listActivation_relu     = ('relu','LeakyReLU', 'PReLU')\n",
        "listActivation_sigmoid  = ('sigmoid','hard_sigmoid')\n",
        "listActivation_other    = ('tanh','softmax')\n",
        "\n",
        "all_activation_fuctions = (listActivation_relu + listActivation_sigmoid + listActivation_other)\n",
        "\n",
        "\n",
        "def model_random_activation_perceptron(_numLayers, _activation):\n",
        "  print(\"################# Creating model_perceptron #################\")\n",
        "  model = tf.keras.Sequential()\n",
        "  model.add(tf.keras.layers.Dense(units=21, activation=_activation, input_shape=(21,)))\n",
        "  model.add(tf.keras.layers.Dense(units=3 , activation=_activation))\n",
        "\n",
        "  # randomly genorating layers based on the input _randRange\n",
        "  for i in range(_numLayers):\n",
        "    model.add(tf.keras.layers.Dense(units=3, activation=_activation))\n",
        "\n",
        "  model.compile(tf.keras.optimizers.Adam(), 'categorical_crossentropy', metrics=['accuracy'])\n",
        "  model.summary()\n",
        "  return model"
      ],
      "execution_count": 0,
      "outputs": []
    },
    {
      "cell_type": "markdown",
      "metadata": {
        "id": "z-YrgHVC9oIl",
        "colab_type": "text"
      },
      "source": [
        "Residual network"
      ]
    },
    {
      "cell_type": "code",
      "metadata": {
        "id": "q3WqjZiu9J7p",
        "colab_type": "code",
        "colab": {}
      },
      "source": [
        "def model_resnet():\n",
        "  print(\"################# Creating model_resnet #################\")\n",
        "  model = tf.keras.Sequential()\n",
        "  model.add(tf.keras.layers.Dense(units=32, activation='tanh', input_shape=(21,)))\n",
        "  model.add(tf.keras.layers.Dense(units=16, activation='softmax'))\n",
        "  \n",
        "  for i in range(10):\n",
        "    model.add(tf.keras.layers.Dense(units=8, activation='tanh'))\n",
        "    model.add(tf.keras.layers.Dense(units=3, activation='softmax'))\n",
        "\n",
        "\n",
        "  model.compile(tf.keras.optimizers.Adam(), 'categorical_crossentropy', metrics=['accuracy'])\n",
        "  model.summary()\n",
        "  return model"
      ],
      "execution_count": 0,
      "outputs": []
    },
    {
      "cell_type": "markdown",
      "metadata": {
        "id": "COgYWACMK02e",
        "colab_type": "text"
      },
      "source": [
        "## Training and testing models"
      ]
    },
    {
      "cell_type": "markdown",
      "metadata": {
        "id": "5IJOx-hijEjS",
        "colab_type": "text"
      },
      "source": [
        "Creating models"
      ]
    },
    {
      "cell_type": "code",
      "metadata": {
        "id": "S_riPqiCjDuo",
        "colab_type": "code",
        "outputId": "076c1af3-946f-456d-ff6e-5e632024e87b",
        "colab": {
          "base_uri": "https://localhost:8080/",
          "height": 331
        }
      },
      "source": [
        "model = model_perceptron()\n",
        "# model = model_random_activation_perceptron(rand.randint(0,10), listActivation_relu[0])\n",
        "# model = model_perceptron_v2()\n",
        "# model = model_resnet()\n",
        "# model = model_CNN()\n",
        "# model = model_RNN()"
      ],
      "execution_count": 0,
      "outputs": [
        {
          "output_type": "stream",
          "text": [
            "################# Creating model_perceptron #################\n",
            "WARNING:tensorflow:From /usr/local/lib/python3.6/dist-packages/tensorflow_core/python/ops/resource_variable_ops.py:1630: calling BaseResourceVariable.__init__ (from tensorflow.python.ops.resource_variable_ops) with constraint is deprecated and will be removed in a future version.\n",
            "Instructions for updating:\n",
            "If using Keras pass *_constraint arguments to layers.\n",
            "Model: \"sequential\"\n",
            "_________________________________________________________________\n",
            "Layer (type)                 Output Shape              Param #   \n",
            "=================================================================\n",
            "dense (Dense)                (None, 21)                462       \n",
            "_________________________________________________________________\n",
            "dense_1 (Dense)              (None, 3)                 66        \n",
            "=================================================================\n",
            "Total params: 528\n",
            "Trainable params: 528\n",
            "Non-trainable params: 0\n",
            "_________________________________________________________________\n"
          ],
          "name": "stdout"
        }
      ]
    },
    {
      "cell_type": "markdown",
      "metadata": {
        "id": "33sgGQB0joWe",
        "colab_type": "text"
      },
      "source": [
        "Testing Models"
      ]
    },
    {
      "cell_type": "code",
      "metadata": {
        "id": "3tB5_dIaK0a4",
        "colab_type": "code",
        "colab": {}
      },
      "source": [
        "def train_model(_model, _xtrain, _ytrain, _epochs = 1, _verbose = 0):\n",
        "  print (\"#################       training model      #################\")\n",
        "  return _model.fit(_xtrain, _ytrain, epochs=_epochs, verbose=_verbose)\n",
        "\n",
        "def test_model(_model, _xtest, _ytest):\n",
        "  print(\"#################        Testing Model      #################\")\n",
        "  print(\"Accuracy = {}\".format(_model.evaluate(_xtest, _ytest)[1]))"
      ],
      "execution_count": 0,
      "outputs": []
    },
    {
      "cell_type": "code",
      "metadata": {
        "id": "RZuuyWsDjvZW",
        "colab_type": "code",
        "colab": {}
      },
      "source": [
        "trainedModel = train_model(model, features_resampled, training_cat_code_one_hot, _epochs=300,_verbose=0)\n",
        "test_model(model, X_test, test_cat_code_one_hot)"
      ],
      "execution_count": 0,
      "outputs": []
    },
    {
      "cell_type": "markdown",
      "metadata": {
        "id": "pvKLJQ2tuKbZ",
        "colab_type": "text"
      },
      "source": [
        "Create a list of models to compare"
      ]
    },
    {
      "cell_type": "code",
      "metadata": {
        "id": "hebVAFzUuJib",
        "colab_type": "code",
        "outputId": "e800af79-2609-43d9-dac1-333fefdf2c55",
        "colab": {
          "base_uri": "https://localhost:8080/",
          "height": 54
        }
      },
      "source": [
        "trained_model_list = []\n",
        "for i in range (2):\n",
        "  trained_model_list.append(train_model(model, features_resampled, training_cat_code_one_hot, _epochs=500,_verbose=0))"
      ],
      "execution_count": 0,
      "outputs": [
        {
          "output_type": "stream",
          "text": [
            "#################       training model      #################\n",
            "#################       training model      #################\n"
          ],
          "name": "stdout"
        }
      ]
    },
    {
      "cell_type": "markdown",
      "metadata": {
        "id": "SwHSGD2gmDcJ",
        "colab_type": "text"
      },
      "source": [
        "## Graphing Models"
      ]
    },
    {
      "cell_type": "code",
      "metadata": {
        "id": "mvrZ-fTaYjav",
        "colab_type": "code",
        "outputId": "5c3454a7-0d91-46ba-c101-e0829ca17855",
        "colab": {
          "base_uri": "https://localhost:8080/",
          "height": 254
        }
      },
      "source": [
        "# Plot over time\n",
        "def pd_loss_acc_OverTime(_history):\n",
        "  fig = pd.DataFrame({'Loss': _history.history['loss'], 'Accuracy': _history.history['acc']}, index=_history.epoch)\n",
        "  fig.plot.line(subplots=True)\n",
        "pd_loss_acc_OverTime(trainedModel)"
      ],
      "execution_count": 0,
      "outputs": [
        {
          "output_type": "display_data",
          "data": {
            "image/png": "[encoded data removed]",
            "text/plain": [
              "<Figure size 432x288 with 2 Axes>"
            ]
          },
          "metadata": {
            "tags": []
          }
        }
      ]
    },
    {
      "cell_type": "code",
      "metadata": {
        "id": "4u7E669Bu5B9",
        "colab_type": "code",
        "outputId": "340c69e6-9324-4ef4-c3bc-ce44e1a32fd8",
        "colab": {
          "base_uri": "https://localhost:8080/",
          "height": 279
        }
      },
      "source": [
        "# plot accuracy of mutiple models\n",
        "def pd_mutiple_OverTime(trained_model_list):\n",
        "  for _history in trained_model_list:\n",
        "    fig = plt.plot(pd.DataFrame({'Accuracy': _history.history['acc']}, index=_history.epoch))\n",
        "    fig = plt.xlabel('Epochs')\n",
        "    fig = plt.ylabel('Accuracy')\n",
        "  plt.show()\n",
        "\n",
        "pd_mutiple_OverTime(trained_model_list)"
      ],
      "execution_count": 0,
      "outputs": [
        {
          "output_type": "display_data",
          "data": {
            "image/png": "[encoded data removed]",
            "text/plain": [
              "<Figure size 432x288 with 1 Axes>"
            ]
          },
          "metadata": {
            "tags": []
          }
        }
      ]
    }
  ]
}